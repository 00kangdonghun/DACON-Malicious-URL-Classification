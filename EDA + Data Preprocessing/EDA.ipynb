{
 "cells": [
  {
   "cell_type": "markdown",
   "metadata": {},
   "source": [
    "# EDA"
   ]
  },
  {
   "cell_type": "code",
   "execution_count": 2,
   "metadata": {},
   "outputs": [],
   "source": [
    "import pandas as pd"
   ]
  },
  {
   "cell_type": "code",
   "execution_count": 3,
   "metadata": {},
   "outputs": [],
   "source": [
    "train_path = \"train.csv\"\n",
    "test_path = \"test.csv\"\n",
    "\n",
    "train_df = pd.read_csv(train_path)\n",
    "test_df = pd.read_csv(test_path)"
   ]
  },
  {
   "cell_type": "markdown",
   "metadata": {},
   "source": [
    "## 데이터 크기 및 기본 정보 확인"
   ]
  },
  {
   "cell_type": "code",
   "execution_count": 4,
   "metadata": {},
   "outputs": [
    {
     "name": "stdout",
     "output_type": "stream",
     "text": [
      "Train 데이터 크기: (11263, 3)\n",
      "Test 데이터 크기: (1689, 2)\n",
      "\n",
      "Train 데이터 정보:\n",
      "<class 'pandas.core.frame.DataFrame'>\n",
      "RangeIndex: 11263 entries, 0 to 11262\n",
      "Data columns (total 3 columns):\n",
      " #   Column  Non-Null Count  Dtype \n",
      "---  ------  --------------  ----- \n",
      " 0   ID      11263 non-null  object\n",
      " 1   input   11263 non-null  object\n",
      " 2   output  11263 non-null  object\n",
      "dtypes: object(3)\n",
      "memory usage: 264.1+ KB\n",
      "None\n",
      "\n",
      "Test 데이터 정보:\n",
      "<class 'pandas.core.frame.DataFrame'>\n",
      "RangeIndex: 1689 entries, 0 to 1688\n",
      "Data columns (total 2 columns):\n",
      " #   Column  Non-Null Count  Dtype \n",
      "---  ------  --------------  ----- \n",
      " 0   ID      1689 non-null   object\n",
      " 1   input   1689 non-null   object\n",
      "dtypes: object(2)\n",
      "memory usage: 26.5+ KB\n",
      "None\n",
      "\n",
      "Train 데이터 샘플:\n",
      "            ID                                              input  \\\n",
      "0  TRAIN_00000  별 한 게토 았깝땀. 왜 싸람듯릭 펼 1캐를 쥰눈징 컥꺾폰 싸람믐롯섞 맒록 섧멍핥쟈...   \n",
      "1  TRAIN_00001                             잚많 쟉꼬 갉 태 좋눼욥. 차못동 줆 ㅋ   \n",
      "2  TRAIN_00002                                    절테 간면 않 된는 굣 멥몫   \n",
      "3  TRAIN_00003  야... 칵컥 좋꾜 부됴 뼝 뚫렷썹 신원햐쥠만 닮패 넴센 밌쪄벅림. 샥퀘 핥류만 묵...   \n",
      "4  TRAIN_00004  집윈 축쳐눌료 딴너왓눈뎁 카셩뷔 좋곱 칼쿰한네올. 쩌럼한뒈 뮬콰 욺료토 잊쿄 빻토 ...   \n",
      "\n",
      "                                              output  \n",
      "0  별 한 개도 아깝다. 왜 사람들이 별 1개를 주는지 겪어본 사람으로서 말로 설명하자...  \n",
      "1                             잠만 자고 갈 때 좋네요. 잠옷도 줌 ㅋ  \n",
      "2                                    절대 가면 안 되는 곳 메모  \n",
      "3  아... 가격 좋고 뷰도 뻥 뚫려서 시원하지만 담배 냄새 미쳐버림. 싸게 하루만 묵...  \n",
      "4  지인 추천으로 다녀왔는데 가성비 좋고 깔끔하네요. 저렴한데 물과 음료도 있고 방도 ...  \n",
      "\n",
      "Test 데이터 샘플:\n",
      "          ID                                              input\n",
      "0  TEST_0000  녀뮨넒뭅 만죡숭러윤 효템뤼에오. 푸싸눼 옰면 콕 츄쩐학꼬 싶은 콧쉰웨오. 췌꾜윕뉘댜...\n",
      "1  TEST_0001  풀룐투갸 엎코, 좀식또 업읍머, 윌뱐 잎츔민든릿 샤있샤윔엡 위썬 호뗄첨렴 관뤽갉 찰...\n",
      "2  TEST_0002  쥔차 붉찐졀행욘. 삶먼섶 멂묽럿턴 혹텔 중웨 쬐약위였습뉜따. 칙어뉜쥐 샤쨩윈쥐 쩨끄...\n",
      "3  TEST_0003  붊 맛짚~~ 글련뎨 방움잃 뮈흙퍄녜용. 충칸 쏘움광 팔쿄닛갸 잊중짱임 야뉘럇셧 팜몌...\n",
      "4  TEST_0004  빻 샹택는 쥔쨔 폐헐 칙젓뉜테 쩐맣은 죠하욧. 뽀읾럭카 알쥬 찬쟌합꿰 똘앝썬 츄어서...\n"
     ]
    }
   ],
   "source": [
    "# 데이터 크기 확인\n",
    "print(\"Train 데이터 크기:\", train_df.shape)\n",
    "print(\"Test 데이터 크기:\", test_df.shape)\n",
    "\n",
    "# 컬럼 정보 확인\n",
    "print(\"\\nTrain 데이터 정보:\")\n",
    "print(train_df.info())\n",
    "\n",
    "print(\"\\nTest 데이터 정보:\")\n",
    "print(test_df.info())\n",
    "\n",
    "# 첫 5개 샘플 확인\n",
    "print(\"\\nTrain 데이터 샘플:\")\n",
    "print(train_df.head())\n",
    "\n",
    "print(\"\\nTest 데이터 샘플:\")\n",
    "print(test_df.head())\n"
   ]
  },
  {
   "cell_type": "markdown",
   "metadata": {},
   "source": [
    "## 결측치 및 중복 데이터 확인"
   ]
  },
  {
   "cell_type": "code",
   "execution_count": 5,
   "metadata": {},
   "outputs": [
    {
     "name": "stdout",
     "output_type": "stream",
     "text": [
      "결측치 개수 확인:\n",
      "ID        0\n",
      "input     0\n",
      "output    0\n",
      "dtype: int64\n",
      "\n",
      "중복 데이터 개수: 0\n"
     ]
    }
   ],
   "source": [
    "# 결측치 확인\n",
    "print(\"결측치 개수 확인:\")\n",
    "print(train_df.isnull().sum())\n",
    "\n",
    "# 중복 데이터 확인\n",
    "print(\"\\n중복 데이터 개수:\", train_df.duplicated().sum())\n",
    "\n",
    "# 중복된 행 제거 (필요하면 사용)\n",
    "# train_df = train_df.drop_duplicates()\n"
   ]
  },
  {
   "cell_type": "markdown",
   "metadata": {},
   "source": [
    "## 데이터 통계 요약"
   ]
  },
  {
   "cell_type": "code",
   "execution_count": 6,
   "metadata": {},
   "outputs": [
    {
     "name": "stdout",
     "output_type": "stream",
     "text": [
      "       input_length  output_length\n",
      "count  11263.000000   11263.000000\n",
      "mean      93.089497      93.118707\n",
      "std       98.777700      98.766055\n",
      "min        1.000000       2.000000\n",
      "25%       33.000000      33.000000\n",
      "50%       63.000000      63.000000\n",
      "75%      116.000000     116.000000\n",
      "max     1381.000000    1381.000000\n"
     ]
    }
   ],
   "source": [
    "# 텍스트 길이 분석을 위한 컬럼 추가\n",
    "train_df[\"input_length\"] = train_df[\"input\"].apply(lambda x: len(str(x)))\n",
    "train_df[\"output_length\"] = train_df[\"output\"].apply(lambda x: len(str(x)))\n",
    "\n",
    "# 입력 데이터와 출력 데이터의 길이 분포 확인\n",
    "print(train_df[[\"input_length\", \"output_length\"]].describe())\n"
   ]
  },
  {
   "cell_type": "markdown",
   "metadata": {},
   "source": [
    "## 데이터 시각화"
   ]
  },
  {
   "cell_type": "markdown",
   "metadata": {},
   "source": [
    "#### 1. 입력/ 출력 문장 길이 분포"
   ]
  },
  {
   "cell_type": "code",
   "execution_count": 7,
   "metadata": {},
   "outputs": [
    {
     "data": {
      "image/png": "[encoded data removed]",
      "text/plain": [
       "<Figure size 1000x500 with 1 Axes>"
      ]
     },
     "metadata": {},
     "output_type": "display_data"
    }
   ],
   "source": [
    "import matplotlib.pyplot as plt\n",
    "plt.rcParams['font.family'] ='Malgun Gothic'\n",
    "plt.rcParams['axes.unicode_minus'] =False\n",
    "\n",
    "# 입력 데이터 길이 분포\n",
    "plt.figure(figsize=(10,5))\n",
    "plt.hist(train_df[\"input_length\"], bins=50, alpha=0.7, label=\"Input Length\")\n",
    "plt.hist(train_df[\"output_length\"], bins=50, alpha=0.7, label=\"Output Length\")\n",
    "plt.xlabel(\"문장 길이\")\n",
    "plt.ylabel(\"빈도수\")\n",
    "plt.title(\"입력과 출력 문장 길이 분포\")\n",
    "plt.legend()\n",
    "plt.show()\n"
   ]
  },
  {
   "cell_type": "markdown",
   "metadata": {},
   "source": [
    "#### 2. 자주 등장하는 단어 확인"
   ]
  },
  {
   "cell_type": "code",
   "execution_count": 8,
   "metadata": {},
   "outputs": [
    {
     "name": "stdout",
     "output_type": "stream",
     "text": [
      "입력 데이터에서 자주 등장하는 단어:\n",
      "[('얀', 1012), ('않', 667), ('앉', 661), ('한', 589), ('쟐', 407), ('넒뮤', 405), ('념뮤', 403), ('쑤', 388), ('잚', 388), ('슈', 386), ('졺', 367), ('토', 330), ('-', 319), ('좋운', 316), ('ㅎㅎ', 302), ('찰', 301), ('댜', 297), ('효텔', 271), ('잘', 270), ('짤', 270)]\n",
      "\n",
      "출력 데이터에서 자주 등장하는 단어:\n",
      "[('너무', 3603), ('안', 2341), ('잘', 1924), ('것', 1261), ('수', 1219), ('정말', 1216), ('다', 1186), ('호텔', 1058), ('좋은', 964), ('있어서', 954), ('뷰가', 939), ('또', 911), ('좀', 838), ('있는', 836), ('좋고', 823), ('진짜', 818), ('깨끗하고', 799), ('게', 772), ('좋아요.', 763), ('깔끔하고', 725)]\n"
     ]
    }
   ],
   "source": [
    "from collections import Counter\n",
    "import itertools\n",
    "\n",
    "# 단어 빈도수 계산 함수\n",
    "def get_top_words(texts, top_n=20):\n",
    "    words = list(itertools.chain(*[text.split() for text in texts]))\n",
    "    word_counts = Counter(words)\n",
    "    return word_counts.most_common(top_n)\n",
    "\n",
    "# 입력 데이터에서 가장 많이 등장하는 단어 20개\n",
    "print(\"입력 데이터에서 자주 등장하는 단어:\")\n",
    "print(get_top_words(train_df[\"input\"], top_n=20))\n",
    "\n",
    "# 출력 데이터에서 가장 많이 등장하는 단어 20개\n",
    "print(\"\\n출력 데이터에서 자주 등장하는 단어:\")\n",
    "print(get_top_words(train_df[\"output\"], top_n=20))\n"
   ]
  }
 ],
 "metadata": {
  "kernelspec": {
   "display_name": "kor",
   "language": "python",
   "name": "python3"
  },
  "language_info": {
   "codemirror_mode": {
    "name": "ipython",
    "version": 3
   },
   "file_extension": ".py",
   "mimetype": "text/x-python",
   "name": "python",
   "nbconvert_exporter": "python",
   "pygments_lexer": "ipython3",
   "version": "3.10.16"
  }
 },
 "nbformat": 4,
 "nbformat_minor": 2
}
